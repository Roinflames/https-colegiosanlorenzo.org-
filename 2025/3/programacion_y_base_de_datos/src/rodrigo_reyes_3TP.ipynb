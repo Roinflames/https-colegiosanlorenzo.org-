{
 "cells": [
  {
   "cell_type": "markdown",
   "id": "9196a82c",
   "metadata": {},
   "source": [
    "¿Qué es la programación?"
   ]
  },
  {
   "cell_type": "markdown",
   "id": "f8e64867",
   "metadata": {},
   "source": [
    "¿Qué es un paradigma de programación?"
   ]
  },
  {
   "cell_type": "markdown",
   "id": "dffd7cf7",
   "metadata": {},
   "source": [
    "¿Qué es la Programación Orientada a Objetos?"
   ]
  },
  {
   "cell_type": "code",
   "execution_count": null,
   "id": "aa3305bf",
   "metadata": {
    "vscode": {
     "languageId": "plaintext"
    }
   },
   "outputs": [],
   "source": [
    "Definir:\n",
    "- Clase\n",
    "- Herencia\n",
    "- Polimorfismo\n",
    "- Encapsulamiento\n",
    "- Sobrecarga"
   ]
  },
  {
   "cell_type": "code",
   "execution_count": null,
   "id": "ef2654e3",
   "metadata": {
    "vscode": {
     "languageId": "plaintext"
    }
   },
   "outputs": [],
   "source": [
    "#Primer paso, instalar dependencias\n",
    "%pip install requests pandas"
   ]
  },
  {
   "cell_type": "code",
   "execution_count": null,
   "id": "b2261807",
   "metadata": {
    "vscode": {
     "languageId": "plaintext"
    }
   },
   "outputs": [],
   "source": [
    "# segundo paso, importar bibliotecas a utilizas \n",
    "import requests\n",
    "import pandas as pd\n",
    "import json"
   ]
  },
  {
   "cell_type": "code",
   "execution_count": null,
   "id": "bd1ad76b",
   "metadata": {
    "vscode": {
     "languageId": "plaintext"
    }
   },
   "outputs": [],
   "source": [
    "# Tercer paso, obtener la data\n",
    "url = \"https://dragonball-api.com/api/characters?page=2&limit=5\"\n",
    "headers = {\n",
    "    \"Content-Type\": \"application/json\"\n",
    "}\n",
    "response = requests.get(url)\n",
    "data = response.json()"
   ]
  },
  {
   "cell_type": "code",
   "execution_count": null,
   "id": "58324656",
   "metadata": {
    "vscode": {
     "languageId": "plaintext"
    }
   },
   "outputs": [],
   "source": [
    "# cuarto paso, transformar la data\n",
    "# Pasar a un dataframe pandas\n",
    "\n",
    "json_string = json.dumps(data, indent=2, ensure_ascii=False)\n",
    "df = pd.DataFrame(data['items'])\n",
    "print(df)\n",
    "\n",
    "# Describir el dataframe\n",
    "df.describe()"
   ]
  },
  {
   "cell_type": "code",
   "execution_count": null,
   "id": "4e62b019",
   "metadata": {
    "vscode": {
     "languageId": "plaintext"
    }
   },
   "outputs": [],
   "source": [
    "# quinto paso, generar graficos con matplotlib"
   ]
  },
  {
   "cell_type": "markdown",
   "id": "4217a9a5",
   "metadata": {},
   "source": [
    "En esta sección añadimos conceptos adicionales propios de la clase, a modo de glosario y apunte para los alumnos."
   ]
  },
  {
   "cell_type": "markdown",
   "id": "b5639a1e",
   "metadata": {},
   "source": [
    "¿Qué es Google Colab?"
   ]
  },
  {
   "cell_type": "markdown",
   "id": "4f751be3",
   "metadata": {},
   "source": [
    "¿Qué es git?"
   ]
  },
  {
   "cell_type": "markdown",
   "id": "7e436f80",
   "metadata": {},
   "source": [
    "¿Qué es Jupyter Notebook?"
   ]
  },
  {
   "cell_type": "markdown",
   "id": "2cbf3df0",
   "metadata": {},
   "source": [
    "¿Qué es Postman?"
   ]
  },
  {
   "cell_type": "markdown",
   "id": "33e05b7e",
   "metadata": {},
   "source": [
    "¿Qué es pandas?\n",
    "¿Qué es un DataFrame?"
   ]
  },
  {
   "cell_type": "markdown",
   "id": "7d375b81",
   "metadata": {},
   "source": [
    "¿Qué es JSON?"
   ]
  },
  {
   "cell_type": "code",
   "execution_count": null,
   "id": "999a7b4f",
   "metadata": {
    "vscode": {
     "languageId": "plaintext"
    }
   },
   "outputs": [],
   "source": []
  }
 ],
 "metadata": {
  "language_info": {
   "name": "python"
  }
 },
 "nbformat": 4,
 "nbformat_minor": 5
}
