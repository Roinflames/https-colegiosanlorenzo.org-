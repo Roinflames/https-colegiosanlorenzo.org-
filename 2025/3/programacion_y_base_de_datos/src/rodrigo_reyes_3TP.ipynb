{
 "cells": [
  {
   "cell_type": "markdown",
   "id": "9196a82c",
   "metadata": {},
   "source": [
    "¿Qué es la programación?"
   ]
  },
  {
   "cell_type": "markdown",
   "id": "f8e64867",
   "metadata": {},
   "source": [
    "¿Qué es un paradigma de programación?"
   ]
  },
  {
   "cell_type": "markdown",
   "id": "dffd7cf7",
   "metadata": {},
   "source": [
    "¿Qué es la Programación Orientada a Objetos?"
   ]
  },
  {
   "cell_type": "code",
   "execution_count": null,
   "id": "aa3305bf",
   "metadata": {
    "vscode": {
     "languageId": "plaintext"
    }
   },
   "outputs": [],
   "source": [
    "Definir:\n",
    "- Clase\n",
    "- Herencia\n",
    "- Polimorfismo\n",
    "- Encapsulamiento\n",
    "- Sobrecarga"
   ]
  },
  {
   "cell_type": "code",
   "execution_count": null,
   "id": "ef2654e3",
   "metadata": {
    "vscode": {
     "languageId": "plaintext"
    }
   },
   "outputs": [],
   "source": [
    "#Primer paso, instalar dependencias\n",
    "%pip install requests"
   ]
  },
  {
   "cell_type": "code",
   "execution_count": null,
   "id": "b2261807",
   "metadata": {
    "vscode": {
     "languageId": "plaintext"
    }
   },
   "outputs": [],
   "source": [
    "# segundo paso, importar bibliotecas a utilizas \n",
    "import requests"
   ]
  },
  {
   "cell_type": "code",
   "execution_count": null,
   "id": "bd1ad76b",
   "metadata": {
    "vscode": {
     "languageId": "plaintext"
    }
   },
   "outputs": [],
   "source": [
    "# Tercer paso, obtener la data\n",
    "url = \"https://dragonball-api.com/api/characters?page=2&limit=5\"\n",
    "headers = {\n",
    "    \"Content-Type\": \"application/json\"\n",
    "}\n",
    "response = requests.get(url)\n",
    "data = response.json()"
   ]
  },
  {
   "cell_type": "code",
   "execution_count": null,
   "id": "58324656",
   "metadata": {
    "vscode": {
     "languageId": "plaintext"
    }
   },
   "outputs": [],
   "source": [
    "# cuarto paso, transformar la data\n",
    "# Pasar a un dataframe pandas\n",
    "df = pd.DataFrame(data)\n",
    "print(df)"
   ]
  },
  {
   "cell_type": "code",
   "execution_count": null,
   "id": "4e62b019",
   "metadata": {
    "vscode": {
     "languageId": "plaintext"
    }
   },
   "outputs": [],
   "source": [
    "# quinto paso, generar graficos con matplotlib"
   ]
  }
 ],
 "metadata": {
  "language_info": {
   "name": "python"
  }
 },
 "nbformat": 4,
 "nbformat_minor": 5
}
